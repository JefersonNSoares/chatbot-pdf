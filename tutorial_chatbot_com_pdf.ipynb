{
  "nbformat": 4,
  "nbformat_minor": 0,
  "metadata": {
    "colab": {
      "provenance": [],
      "authorship_tag": "ABX9TyNHwJHJZM16wfI6RMfy3/Fz",
      "include_colab_link": true
    },
    "kernelspec": {
      "name": "python3",
      "display_name": "Python 3"
    },
    "language_info": {
      "name": "python"
    }
  },
  "cells": [
    {
      "cell_type": "markdown",
      "metadata": {
        "id": "view-in-github",
        "colab_type": "text"
      },
      "source": [
        "<a href=\"https://colab.research.google.com/github/JefersonNSoares/chatbot-pdf/blob/main/tutorial_chatbot_com_pdf.ipynb\" target=\"_parent\"><img src=\"https://colab.research.google.com/assets/colab-badge.svg\" alt=\"Open In Colab\"/></a>"
      ]
    },
    {
      "cell_type": "code",
      "execution_count": null,
      "metadata": {
        "id": "VAPPEpuoAv1z"
      },
      "outputs": [],
      "source": [
        "#importando as bibliotecas necessarios para o tutorial\n",
        "!pip install pyTelegramBotAPI\n",
        "!pip install llama-index\n",
        "!pip install openai\n",
        "!pip install pypdf\n"
      ]
    },
    {
      "cell_type": "code",
      "source": [
        "#Conectando-se ao bot no Telegram com a key gerado pelo telegram\n",
        "import telebot\n",
        "\n",
        "bot = telebot.TeleBot('adicione aqui o token de acesso de telegram')\n",
        "\n",
        "@bot.message_handler( comandos=[ 'start' , 'hello' ] )\n",
        "def  send_welcome ( messagem ):\n",
        "   bot.reply_to(message, \"Hello world, this is your bot speaking.\" )\n",
        "\n",
        "@bot.message_handler( func= lambda msg: True  )\n",
        "def  echo_all ( message ):\n",
        "   bot.reply_to(message, message.text);\n",
        "\n",
        "#descomente essa parte para testar se a integração funcionou corretamente\n",
        "#bot.infinity_polling()"
      ],
      "metadata": {
        "id": "-CuxepLqA0fu"
      },
      "execution_count": null,
      "outputs": []
    },
    {
      "cell_type": "code",
      "source": [
        "#adicionar api key do openIA nas variaveis de sistema\n",
        "import os\n",
        "os.environ[\"OPENAI_API_KEY\"] = \"adicione aqui sua api kei da open ia\""
      ],
      "metadata": {
        "id": "eoFvvHerBAyM"
      },
      "execution_count": null,
      "outputs": []
    },
    {
      "cell_type": "code",
      "source": [
        "#Criando a função de responder com LLammaxIndex\n",
        "from llama_index.core import VectorStoreIndex, SimpleDirectoryReader\n",
        "\n",
        "documents = SimpleDirectoryReader(\"/adicione aqui o caminho para o diretorio com os pdfs\").load_data()\n",
        "index = VectorStoreIndex.from_documents(documents)"
      ],
      "metadata": {
        "id": "huil_0jvBNmH"
      },
      "execution_count": null,
      "outputs": []
    },
    {
      "cell_type": "code",
      "source": [
        "# permite realizar consultas nos documentos indexados\n",
        "query_engine = index.as_query_engine()"
      ],
      "metadata": {
        "id": "Pl-vu5pZBUDz"
      },
      "execution_count": null,
      "outputs": []
    },
    {
      "cell_type": "code",
      "source": [
        "#integrar a função criada com o LlamaIndex e a OpenAI na função de respostas\n",
        "#do nosso bot do Telegram alterando a função echo_all.\n",
        "bot = telebot.TeleBot('adicione aqui o token de acesso de telegram')\n",
        "\n",
        "@bot.message_handler(commands=['start', 'hello'])\n",
        "def send_welcome(message):\n",
        "    bot.reply_to(message, \"Hello world, this is your bot speaking.\")\n",
        "\n",
        "\n",
        "@bot.message_handler(func=lambda msg: True)\n",
        "def echo_all(message):\n",
        "    response = query_engine.query(message.text)\n",
        "    bot.reply_to(message, response)\n"
      ],
      "metadata": {
        "id": "vEkAISNcBV7r"
      },
      "execution_count": null,
      "outputs": []
    },
    {
      "cell_type": "code",
      "source": [
        "#executa nosso bot\n",
        "bot.infinity_polling()"
      ],
      "metadata": {
        "id": "qG7Nnk8XBZoc"
      },
      "execution_count": null,
      "outputs": []
    }
  ]
}